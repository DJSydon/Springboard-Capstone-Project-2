{
 "cells": [
  {
   "cell_type": "markdown",
   "id": "9b2304eb-ce53-4fd3-98a9-ec301463001c",
   "metadata": {},
   "source": [
    "# Pre-processing and Training"
   ]
  },
  {
   "cell_type": "code",
   "execution_count": 1,
   "id": "cf3cc33b-013e-4b13-b32f-e2fc7394e732",
   "metadata": {},
   "outputs": [],
   "source": [
    "import os\n",
    "import pandas as pd\n",
    "import numpy as np\n",
    "import matplotlib.pyplot as plt\n",
    "import seaborn as sns\n",
    "from sklearn.preprocessing import scale, LabelEncoder\n",
    "from sklearn.model_selection import train_test_split\n",
    "from sklearn.preprocessing import StandardScaler, MinMaxScaler"
   ]
  },
  {
   "cell_type": "code",
   "execution_count": 2,
   "id": "710e4230-bcc3-4611-bab2-b13076894a5c",
   "metadata": {},
   "outputs": [],
   "source": [
    "os.chdir(\"C:/Users/adre9/Springboard 2024/Springboard_2024_GH/Capstone Project 2/Notebooks/Capstone 2 Data\")"
   ]
  },
  {
   "cell_type": "code",
   "execution_count": 3,
   "id": "2cc7176e-bdd3-4a86-8892-a6049a519a51",
   "metadata": {},
   "outputs": [
    {
     "data": {
      "text/html": [
       "<div>\n",
       "<style scoped>\n",
       "    .dataframe tbody tr th:only-of-type {\n",
       "        vertical-align: middle;\n",
       "    }\n",
       "\n",
       "    .dataframe tbody tr th {\n",
       "        vertical-align: top;\n",
       "    }\n",
       "\n",
       "    .dataframe thead th {\n",
       "        text-align: right;\n",
       "    }\n",
       "</style>\n",
       "<table border=\"1\" class=\"dataframe\">\n",
       "  <thead>\n",
       "    <tr style=\"text-align: right;\">\n",
       "      <th></th>\n",
       "      <th>airline</th>\n",
       "      <th>source_city</th>\n",
       "      <th>departure_time</th>\n",
       "      <th>stops</th>\n",
       "      <th>arrival_time</th>\n",
       "      <th>destination_city</th>\n",
       "      <th>class</th>\n",
       "      <th>duration</th>\n",
       "      <th>days_left</th>\n",
       "      <th>price</th>\n",
       "    </tr>\n",
       "  </thead>\n",
       "  <tbody>\n",
       "    <tr>\n",
       "      <th>0</th>\n",
       "      <td>SpiceJet</td>\n",
       "      <td>Delhi</td>\n",
       "      <td>Evening</td>\n",
       "      <td>0</td>\n",
       "      <td>Night</td>\n",
       "      <td>Mumbai</td>\n",
       "      <td>Economy</td>\n",
       "      <td>2.17</td>\n",
       "      <td>1</td>\n",
       "      <td>5953</td>\n",
       "    </tr>\n",
       "    <tr>\n",
       "      <th>1</th>\n",
       "      <td>SpiceJet</td>\n",
       "      <td>Delhi</td>\n",
       "      <td>Early_Morning</td>\n",
       "      <td>0</td>\n",
       "      <td>Morning</td>\n",
       "      <td>Mumbai</td>\n",
       "      <td>Economy</td>\n",
       "      <td>2.33</td>\n",
       "      <td>1</td>\n",
       "      <td>5953</td>\n",
       "    </tr>\n",
       "    <tr>\n",
       "      <th>2</th>\n",
       "      <td>AirAsia</td>\n",
       "      <td>Delhi</td>\n",
       "      <td>Early_Morning</td>\n",
       "      <td>0</td>\n",
       "      <td>Early_Morning</td>\n",
       "      <td>Mumbai</td>\n",
       "      <td>Economy</td>\n",
       "      <td>2.17</td>\n",
       "      <td>1</td>\n",
       "      <td>5956</td>\n",
       "    </tr>\n",
       "    <tr>\n",
       "      <th>3</th>\n",
       "      <td>Vistara</td>\n",
       "      <td>Delhi</td>\n",
       "      <td>Morning</td>\n",
       "      <td>0</td>\n",
       "      <td>Afternoon</td>\n",
       "      <td>Mumbai</td>\n",
       "      <td>Economy</td>\n",
       "      <td>2.25</td>\n",
       "      <td>1</td>\n",
       "      <td>5955</td>\n",
       "    </tr>\n",
       "    <tr>\n",
       "      <th>4</th>\n",
       "      <td>Vistara</td>\n",
       "      <td>Delhi</td>\n",
       "      <td>Morning</td>\n",
       "      <td>0</td>\n",
       "      <td>Morning</td>\n",
       "      <td>Mumbai</td>\n",
       "      <td>Economy</td>\n",
       "      <td>2.33</td>\n",
       "      <td>1</td>\n",
       "      <td>5955</td>\n",
       "    </tr>\n",
       "  </tbody>\n",
       "</table>\n",
       "</div>"
      ],
      "text/plain": [
       "    airline source_city departure_time stops   arrival_time destination_city  \\\n",
       "0  SpiceJet       Delhi        Evening     0          Night           Mumbai   \n",
       "1  SpiceJet       Delhi  Early_Morning     0        Morning           Mumbai   \n",
       "2   AirAsia       Delhi  Early_Morning     0  Early_Morning           Mumbai   \n",
       "3   Vistara       Delhi        Morning     0      Afternoon           Mumbai   \n",
       "4   Vistara       Delhi        Morning     0        Morning           Mumbai   \n",
       "\n",
       "     class  duration  days_left  price  \n",
       "0  Economy      2.17          1   5953  \n",
       "1  Economy      2.33          1   5953  \n",
       "2  Economy      2.17          1   5956  \n",
       "3  Economy      2.25          1   5955  \n",
       "4  Economy      2.33          1   5955  "
      ]
     },
     "execution_count": 3,
     "metadata": {},
     "output_type": "execute_result"
    }
   ],
   "source": [
    "df = pd.read_csv('df.csv')\n",
    "df.head()"
   ]
  },
  {
   "cell_type": "code",
   "execution_count": 4,
   "id": "112bb30a-7707-4582-a541-3d8f22a48f6c",
   "metadata": {},
   "outputs": [
    {
     "data": {
      "text/plain": [
       "(297940, 10)"
      ]
     },
     "execution_count": 4,
     "metadata": {},
     "output_type": "execute_result"
    }
   ],
   "source": [
    "df.shape"
   ]
  },
  {
   "cell_type": "code",
   "execution_count": 5,
   "id": "59e9a7a0-345e-454a-afaf-e0c7f36d7dbc",
   "metadata": {},
   "outputs": [],
   "source": [
    "os.chdir(\"C:/Users/adre9/Springboard 2024/Springboard_2024_GH/Capstone Project 2/Notebooks/EDA\")"
   ]
  },
  {
   "cell_type": "code",
   "execution_count": 6,
   "id": "11340a24-a3d4-4ef2-907d-d367060dbcb6",
   "metadata": {},
   "outputs": [
    {
     "data": {
      "text/plain": [
       "Index(['airline', 'source_city', 'departure_time', 'stops', 'arrival_time',\n",
       "       'destination_city', 'class', 'duration', 'days_left', 'price'],\n",
       "      dtype='object')"
      ]
     },
     "execution_count": 6,
     "metadata": {},
     "output_type": "execute_result"
    }
   ],
   "source": [
    "df.columns"
   ]
  },
  {
   "cell_type": "code",
   "execution_count": 8,
   "id": "b2726825-3f5f-47dd-9d29-cebc2e1ead6f",
   "metadata": {},
   "outputs": [],
   "source": [
    "cat_cols = ['airline', 'source_city', 'departure_time', 'stops', \n",
    "              'arrival_time', 'destination_city', 'class']\n",
    "num_cols = ['duration','days_left','price']"
   ]
  },
  {
   "cell_type": "markdown",
   "id": "4a29c78d-4a10-400c-82ca-392fe3766a9f",
   "metadata": {},
   "source": [
    "## Encoding the data"
   ]
  },
  {
   "cell_type": "code",
   "execution_count": 9,
   "id": "2105ed6f-bb70-4e58-847c-c8b0e4c81681",
   "metadata": {},
   "outputs": [],
   "source": [
    "# Encoding categorical columns\n",
    "df_encoded = pd.get_dummies(df, columns=cat_cols, drop_first=True)\n",
    "\n",
    "# Defining the features and target variables\n",
    "X_temp = df_encoded.drop(columns=['price'])\n",
    "y = df['price']"
   ]
  },
  {
   "cell_type": "markdown",
   "id": "7e3a27aa-7e2c-449b-ad0d-55eeb481ac85",
   "metadata": {},
   "source": [
    "# Scaling the data"
   ]
  },
  {
   "cell_type": "code",
   "execution_count": 10,
   "id": "3d547159-2189-49d6-9b13-1828b6a9a902",
   "metadata": {},
   "outputs": [],
   "source": [
    "# Scaling the data\n",
    "scaler = MinMaxScaler().fit_transform(X_temp)\n",
    "X = pd.DataFrame(scaler, columns=X_temp.columns)"
   ]
  },
  {
   "cell_type": "markdown",
   "id": "fced4acd-ac01-4480-838e-604876658170",
   "metadata": {},
   "source": [
    "## Splitting the data"
   ]
  },
  {
   "cell_type": "code",
   "execution_count": 11,
   "id": "a04c8d53-396c-42cc-a1b5-5ea307c1f0fb",
   "metadata": {},
   "outputs": [
    {
     "name": "stdout",
     "output_type": "stream",
     "text": [
      "10%: 29794.0\n",
      "15%: 44691.0\n",
      "20%: 59588.0\n",
      "25%: 74485.0\n",
      "30%: 89382.0\n"
     ]
    }
   ],
   "source": [
    "# Let's take a look at how much possible training data there may be \n",
    "# Before deciding how much to split\n",
    "test_size_pcts = [0.1,0.15,0.2,0.25,0.3]\n",
    "\n",
    "for i in test_size_pcts:\n",
    "    print(f'{int(i*100)}%: {i * len(X)}')"
   ]
  },
  {
   "cell_type": "code",
   "execution_count": 14,
   "id": "d2fced5e-3208-4de9-8718-559b0154521f",
   "metadata": {},
   "outputs": [
    {
     "name": "stdout",
     "output_type": "stream",
     "text": [
      "Stored 'X_train' (DataFrame)\n",
      "Stored 'X_test' (DataFrame)\n",
      "Stored 'y_train' (Series)\n",
      "Stored 'y_test' (Series)\n"
     ]
    }
   ],
   "source": [
    "# let's do 80/20 split and save it for the modeling step\n",
    "X_train, X_test, y_train, y_test = train_test_split(X, y, test_size=0.20, random_state=42)\n",
    "%store X_train X_test y_train y_test"
   ]
  }
 ],
 "metadata": {
  "kernelspec": {
   "display_name": "Python 3 (ipykernel)",
   "language": "python",
   "name": "python3"
  },
  "language_info": {
   "codemirror_mode": {
    "name": "ipython",
    "version": 3
   },
   "file_extension": ".py",
   "mimetype": "text/x-python",
   "name": "python",
   "nbconvert_exporter": "python",
   "pygments_lexer": "ipython3",
   "version": "3.12.3"
  }
 },
 "nbformat": 4,
 "nbformat_minor": 5
}
