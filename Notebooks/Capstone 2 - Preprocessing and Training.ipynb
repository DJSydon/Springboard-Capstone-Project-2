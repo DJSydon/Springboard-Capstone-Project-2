{
 "cells": [
  {
   "cell_type": "markdown",
   "id": "9b2304eb-ce53-4fd3-98a9-ec301463001c",
   "metadata": {},
   "source": [
    "# Pre-processing and Training"
   ]
  },
  {
   "cell_type": "markdown",
   "id": "4c523f77-0a82-4288-b9ad-9273d0a8fb3e",
   "metadata": {},
   "source": [
    "## Importing the packages and data"
   ]
  },
  {
   "cell_type": "code",
   "execution_count": 1,
   "id": "cf3cc33b-013e-4b13-b32f-e2fc7394e732",
   "metadata": {},
   "outputs": [],
   "source": [
    "import os\n",
    "import pandas as pd\n",
    "import numpy as np\n",
    "import matplotlib.pyplot as plt\n",
    "import seaborn as sns\n",
    "from sklearn.preprocessing import scale, LabelEncoder\n",
    "from sklearn.model_selection import train_test_split\n",
    "from sklearn.preprocessing import StandardScaler, MinMaxScaler\n",
    "import warnings\n",
    "warnings.filterwarnings('ignore')"
   ]
  },
  {
   "cell_type": "code",
   "execution_count": 2,
   "id": "710e4230-bcc3-4611-bab2-b13076894a5c",
   "metadata": {},
   "outputs": [],
   "source": [
    "os.chdir(\"C:/Users/adre9/Springboard 2024/Springboard_2024_GH/Capstone Project 2/Notebooks/Capstone 2 Data\")"
   ]
  },
  {
   "cell_type": "code",
   "execution_count": 3,
   "id": "2cc7176e-bdd3-4a86-8892-a6049a519a51",
   "metadata": {},
   "outputs": [
    {
     "data": {
      "text/html": [
       "<div>\n",
       "<style scoped>\n",
       "    .dataframe tbody tr th:only-of-type {\n",
       "        vertical-align: middle;\n",
       "    }\n",
       "\n",
       "    .dataframe tbody tr th {\n",
       "        vertical-align: top;\n",
       "    }\n",
       "\n",
       "    .dataframe thead th {\n",
       "        text-align: right;\n",
       "    }\n",
       "</style>\n",
       "<table border=\"1\" class=\"dataframe\">\n",
       "  <thead>\n",
       "    <tr style=\"text-align: right;\">\n",
       "      <th></th>\n",
       "      <th>airline</th>\n",
       "      <th>source_city</th>\n",
       "      <th>departure_time</th>\n",
       "      <th>stops</th>\n",
       "      <th>arrival_time</th>\n",
       "      <th>destination_city</th>\n",
       "      <th>class</th>\n",
       "      <th>duration</th>\n",
       "      <th>days_left</th>\n",
       "      <th>price</th>\n",
       "    </tr>\n",
       "  </thead>\n",
       "  <tbody>\n",
       "    <tr>\n",
       "      <th>0</th>\n",
       "      <td>SpiceJet</td>\n",
       "      <td>Delhi</td>\n",
       "      <td>Evening</td>\n",
       "      <td>0</td>\n",
       "      <td>Night</td>\n",
       "      <td>Mumbai</td>\n",
       "      <td>Economy</td>\n",
       "      <td>2.17</td>\n",
       "      <td>1</td>\n",
       "      <td>5953</td>\n",
       "    </tr>\n",
       "    <tr>\n",
       "      <th>1</th>\n",
       "      <td>SpiceJet</td>\n",
       "      <td>Delhi</td>\n",
       "      <td>Early_Morning</td>\n",
       "      <td>0</td>\n",
       "      <td>Morning</td>\n",
       "      <td>Mumbai</td>\n",
       "      <td>Economy</td>\n",
       "      <td>2.33</td>\n",
       "      <td>1</td>\n",
       "      <td>5953</td>\n",
       "    </tr>\n",
       "    <tr>\n",
       "      <th>2</th>\n",
       "      <td>AirAsia</td>\n",
       "      <td>Delhi</td>\n",
       "      <td>Early_Morning</td>\n",
       "      <td>0</td>\n",
       "      <td>Early_Morning</td>\n",
       "      <td>Mumbai</td>\n",
       "      <td>Economy</td>\n",
       "      <td>2.17</td>\n",
       "      <td>1</td>\n",
       "      <td>5956</td>\n",
       "    </tr>\n",
       "    <tr>\n",
       "      <th>3</th>\n",
       "      <td>Vistara</td>\n",
       "      <td>Delhi</td>\n",
       "      <td>Morning</td>\n",
       "      <td>0</td>\n",
       "      <td>Afternoon</td>\n",
       "      <td>Mumbai</td>\n",
       "      <td>Economy</td>\n",
       "      <td>2.25</td>\n",
       "      <td>1</td>\n",
       "      <td>5955</td>\n",
       "    </tr>\n",
       "    <tr>\n",
       "      <th>4</th>\n",
       "      <td>Vistara</td>\n",
       "      <td>Delhi</td>\n",
       "      <td>Morning</td>\n",
       "      <td>0</td>\n",
       "      <td>Morning</td>\n",
       "      <td>Mumbai</td>\n",
       "      <td>Economy</td>\n",
       "      <td>2.33</td>\n",
       "      <td>1</td>\n",
       "      <td>5955</td>\n",
       "    </tr>\n",
       "  </tbody>\n",
       "</table>\n",
       "</div>"
      ],
      "text/plain": [
       "    airline source_city departure_time stops   arrival_time destination_city  \\\n",
       "0  SpiceJet       Delhi        Evening     0          Night           Mumbai   \n",
       "1  SpiceJet       Delhi  Early_Morning     0        Morning           Mumbai   \n",
       "2   AirAsia       Delhi  Early_Morning     0  Early_Morning           Mumbai   \n",
       "3   Vistara       Delhi        Morning     0      Afternoon           Mumbai   \n",
       "4   Vistara       Delhi        Morning     0        Morning           Mumbai   \n",
       "\n",
       "     class  duration  days_left  price  \n",
       "0  Economy      2.17          1   5953  \n",
       "1  Economy      2.33          1   5953  \n",
       "2  Economy      2.17          1   5956  \n",
       "3  Economy      2.25          1   5955  \n",
       "4  Economy      2.33          1   5955  "
      ]
     },
     "execution_count": 3,
     "metadata": {},
     "output_type": "execute_result"
    }
   ],
   "source": [
    "df = pd.read_csv('df.csv')\n",
    "df.head()"
   ]
  },
  {
   "cell_type": "code",
   "execution_count": 4,
   "id": "112bb30a-7707-4582-a541-3d8f22a48f6c",
   "metadata": {},
   "outputs": [
    {
     "data": {
      "text/plain": [
       "(297940, 10)"
      ]
     },
     "execution_count": 4,
     "metadata": {},
     "output_type": "execute_result"
    }
   ],
   "source": [
    "df.shape"
   ]
  },
  {
   "cell_type": "code",
   "execution_count": 5,
   "id": "11340a24-a3d4-4ef2-907d-d367060dbcb6",
   "metadata": {},
   "outputs": [
    {
     "data": {
      "text/plain": [
       "Index(['airline', 'source_city', 'departure_time', 'stops', 'arrival_time',\n",
       "       'destination_city', 'class', 'duration', 'days_left', 'price'],\n",
       "      dtype='object')"
      ]
     },
     "execution_count": 5,
     "metadata": {},
     "output_type": "execute_result"
    }
   ],
   "source": [
    "df.columns"
   ]
  },
  {
   "cell_type": "code",
   "execution_count": 6,
   "id": "08266fe9-1415-43f2-9ee5-603835b6483e",
   "metadata": {},
   "outputs": [],
   "source": [
    "df = df.copy()"
   ]
  },
  {
   "cell_type": "code",
   "execution_count": 7,
   "id": "b2726825-3f5f-47dd-9d29-cebc2e1ead6f",
   "metadata": {},
   "outputs": [],
   "source": [
    "cat_cols = ['airline', 'source_city', 'departure_time', 'stops', \n",
    "              'arrival_time', 'destination_city', 'class']\n",
    "num_cols = ['duration','days_left','price']"
   ]
  },
  {
   "cell_type": "markdown",
   "id": "4a29c78d-4a10-400c-82ca-392fe3766a9f",
   "metadata": {},
   "source": [
    "## Encoding the data\n",
    "\n",
    "This will be done manually for each categorical column"
   ]
  },
  {
   "cell_type": "markdown",
   "id": "bec6e968-81b5-4526-b8a1-a95178af803f",
   "metadata": {},
   "source": [
    "**Airline**"
   ]
  },
  {
   "cell_type": "code",
   "execution_count": 8,
   "id": "035f15d1-17d2-4ab4-920f-737981b2c4bc",
   "metadata": {},
   "outputs": [
    {
     "name": "stdout",
     "output_type": "stream",
     "text": [
      "['AirAsia', 'Air_India', 'Go_First', 'Indigo', 'SpiceJet', 'Vistara']\n"
     ]
    }
   ],
   "source": [
    "print(sorted(df['airline'].unique()))"
   ]
  },
  {
   "cell_type": "code",
   "execution_count": 9,
   "id": "2105ed6f-bb70-4e58-847c-c8b0e4c81681",
   "metadata": {},
   "outputs": [
    {
     "data": {
      "text/plain": [
       "array([5, 1, 6, 3, 4, 2], dtype=int64)"
      ]
     },
     "execution_count": 9,
     "metadata": {},
     "output_type": "execute_result"
    }
   ],
   "source": [
    "df['airline'] = df['airline'].replace({'AirAsia':1, 'Air_India':2, 'Go_First':3,\n",
    "                                      'Indigo':4, 'SpiceJet':5, 'Vistara':6})\n",
    "df['airline'].unique()"
   ]
  },
  {
   "cell_type": "markdown",
   "id": "84bb728e-fa67-43e2-8777-60165c7dc448",
   "metadata": {},
   "source": [
    "**Departure and Arrival times**"
   ]
  },
  {
   "cell_type": "code",
   "execution_count": 10,
   "id": "7207b6a2-8982-4dc4-8b7b-b9c380c53b6d",
   "metadata": {},
   "outputs": [
    {
     "name": "stdout",
     "output_type": "stream",
     "text": [
      "['Night' 'Morning' 'Early_Morning' 'Afternoon' 'Evening' 'Late_Night']\n"
     ]
    }
   ],
   "source": [
    "print(df['arrival_time'].unique())"
   ]
  },
  {
   "cell_type": "code",
   "execution_count": 11,
   "id": "cdfb9b3a-42a8-400d-bb1e-4f199d676aec",
   "metadata": {},
   "outputs": [],
   "source": [
    "df['arrival_time'] = df['arrival_time'].replace({'Early_Morning':1,'Morning':2,'Afternoon':3,\n",
    "                                                 'Evening':4,'Night':5,'Late_Night':6})\n",
    "\n",
    "df['departure_time'] = df['departure_time'].replace({'Early_Morning':1,'Morning':2,'Afternoon':3,\n",
    "                                                 'Evening':4,'Night':5,'Late_Night':6})"
   ]
  },
  {
   "cell_type": "code",
   "execution_count": 12,
   "id": "af2d51e6-7421-49c2-b40f-d0e40988a9dc",
   "metadata": {},
   "outputs": [
    {
     "name": "stdout",
     "output_type": "stream",
     "text": [
      "[5 2 1 3 4 6] [4 1 2 3 5 6]\n"
     ]
    }
   ],
   "source": [
    "print(df['arrival_time'].unique(), df['departure_time'].unique())"
   ]
  },
  {
   "cell_type": "markdown",
   "id": "ae0acc10-f907-48bf-a529-881fd50e1889",
   "metadata": {},
   "source": [
    "**Source and Destination cities**"
   ]
  },
  {
   "cell_type": "code",
   "execution_count": 13,
   "id": "50d3113f-5254-41f7-bcc4-3a3bf3d8b920",
   "metadata": {},
   "outputs": [
    {
     "data": {
      "text/plain": [
       "array(['Delhi', 'Mumbai', 'Bangalore', 'Kolkata', 'Hyderabad', 'Chennai'],\n",
       "      dtype=object)"
      ]
     },
     "execution_count": 13,
     "metadata": {},
     "output_type": "execute_result"
    }
   ],
   "source": [
    "df['source_city'].unique()"
   ]
  },
  {
   "cell_type": "code",
   "execution_count": 14,
   "id": "e815aeed-4c6d-4f09-aa30-9a81b46c2e39",
   "metadata": {},
   "outputs": [],
   "source": [
    "df['source_city'] = df['source_city'].replace({'Bangalore':1,'Chennai':2,'Delhi':3,\n",
    "                                              'Hyderabad':4,'Kolkata':5,'Mumbai':6})\n",
    "\n",
    "df['destination_city'] = df['destination_city'].replace({'Bangalore':1,'Chennai':2,'Delhi':3,\n",
    "                                              'Hyderabad':4,'Kolkata':5,'Mumbai':6})"
   ]
  },
  {
   "cell_type": "code",
   "execution_count": 15,
   "id": "c9b2fe33-01ef-4158-b27b-a54bcadf8afd",
   "metadata": {},
   "outputs": [
    {
     "name": "stdout",
     "output_type": "stream",
     "text": [
      "[3 6 1 5 4 2] [6 1 5 4 2 3]\n"
     ]
    }
   ],
   "source": [
    "print(df['source_city'].unique(), df['destination_city'].unique())"
   ]
  },
  {
   "cell_type": "markdown",
   "id": "ed806194-4d1c-4c4d-9b29-5f46133e667d",
   "metadata": {},
   "source": [
    "**Stops**"
   ]
  },
  {
   "cell_type": "code",
   "execution_count": 16,
   "id": "cf4fdd40-c6de-48c1-b62e-f5a8c7dc26c3",
   "metadata": {},
   "outputs": [
    {
     "data": {
      "text/plain": [
       "array(['0', '1', '2+'], dtype=object)"
      ]
     },
     "execution_count": 16,
     "metadata": {},
     "output_type": "execute_result"
    }
   ],
   "source": [
    "df['stops'].unique()"
   ]
  },
  {
   "cell_type": "code",
   "execution_count": 17,
   "id": "71ac8ff4-40fc-44a0-b551-41441d89d040",
   "metadata": {},
   "outputs": [],
   "source": [
    "df['stops'] = df['stops'].replace({'0':1,'1':2,'2+':3})"
   ]
  },
  {
   "cell_type": "code",
   "execution_count": 18,
   "id": "dc0e9fe0-f17e-45ff-a369-daa2dbc1baa3",
   "metadata": {},
   "outputs": [
    {
     "data": {
      "text/plain": [
       "array([1, 2, 3], dtype=int64)"
      ]
     },
     "execution_count": 18,
     "metadata": {},
     "output_type": "execute_result"
    }
   ],
   "source": [
    "df['stops'].unique()"
   ]
  },
  {
   "cell_type": "markdown",
   "id": "6f6695a8-8966-4d36-9a5f-2f7dcd167a3c",
   "metadata": {},
   "source": [
    "**Class**"
   ]
  },
  {
   "cell_type": "code",
   "execution_count": 19,
   "id": "5c451846-6282-4bfc-9994-60386352988a",
   "metadata": {},
   "outputs": [
    {
     "data": {
      "text/plain": [
       "array(['Economy', 'Business'], dtype=object)"
      ]
     },
     "execution_count": 19,
     "metadata": {},
     "output_type": "execute_result"
    }
   ],
   "source": [
    "df['class'].unique()"
   ]
  },
  {
   "cell_type": "code",
   "execution_count": 20,
   "id": "c8507c31-7ac8-4111-b09c-079dcf94ac5d",
   "metadata": {},
   "outputs": [],
   "source": [
    "df['class'] = df['class'].replace({'Economy':1,'Business':2})"
   ]
  },
  {
   "cell_type": "code",
   "execution_count": 21,
   "id": "b5e263ec-35df-4075-a9d8-3f766e6ffc3d",
   "metadata": {},
   "outputs": [
    {
     "data": {
      "text/plain": [
       "array([1, 2], dtype=int64)"
      ]
     },
     "execution_count": 21,
     "metadata": {},
     "output_type": "execute_result"
    }
   ],
   "source": [
    "df['class'].unique()"
   ]
  },
  {
   "cell_type": "markdown",
   "id": "7255aa86-3424-4f92-bc45-b2cb0196d445",
   "metadata": {},
   "source": [
    "## Checking out the correlation"
   ]
  },
  {
   "cell_type": "code",
   "execution_count": 22,
   "id": "ac73eac2-ccbb-4742-b7ce-ac8c58274b07",
   "metadata": {},
   "outputs": [
    {
     "data": {
      "image/png": "[encoded data removed]",
      "text/plain": [
       "<Figure size 1000x800 with 2 Axes>"
      ]
     },
     "metadata": {},
     "output_type": "display_data"
    }
   ],
   "source": [
    "corr = df.corr()\n",
    "plt.figure(figsize=(10,8))\n",
    "sns.heatmap(corr, annot=True, fmt='.2f', linewidths=0.5, linecolor='black', cmap='Blues')\n",
    "plt.show()"
   ]
  },
  {
   "cell_type": "markdown",
   "id": "9d9b5ccf-d8dc-436f-a0ad-63653b050f51",
   "metadata": {},
   "source": [
    "Flight class has the biggest correlation with pric with the next highest being airline at 0.24 likely due to Vistara and Air India having the highest prices while there is no clear correlation between the other 4 airlines as seen during the EDA step."
   ]
  },
  {
   "cell_type": "code",
   "execution_count": 23,
   "id": "8d969734-d693-4023-9d79-2f90df7f8460",
   "metadata": {},
   "outputs": [],
   "source": [
    "# Defining the features and target variables\n",
    "X_temp = df.drop(columns='price')\n",
    "y = df['price']"
   ]
  },
  {
   "cell_type": "markdown",
   "id": "7e3a27aa-7e2c-449b-ad0d-55eeb481ac85",
   "metadata": {},
   "source": [
    "## Scaling the data"
   ]
  },
  {
   "cell_type": "code",
   "execution_count": 24,
   "id": "3d547159-2189-49d6-9b13-1828b6a9a902",
   "metadata": {},
   "outputs": [],
   "source": [
    "# Scaling the data\n",
    "scaler = MinMaxScaler().fit_transform(X_temp)\n",
    "X = pd.DataFrame(scaler, columns=X_temp.columns)"
   ]
  },
  {
   "cell_type": "markdown",
   "id": "fced4acd-ac01-4480-838e-604876658170",
   "metadata": {},
   "source": [
    "## Splitting the data"
   ]
  },
  {
   "cell_type": "code",
   "execution_count": 11,
   "id": "a04c8d53-396c-42cc-a1b5-5ea307c1f0fb",
   "metadata": {},
   "outputs": [
    {
     "name": "stdout",
     "output_type": "stream",
     "text": [
      "10%: 29794.0\n",
      "15%: 44691.0\n",
      "20%: 59588.0\n",
      "25%: 74485.0\n",
      "30%: 89382.0\n"
     ]
    }
   ],
   "source": [
    "# Let's take a look at how much possible training data there may be \n",
    "# Before deciding how much to split\n",
    "test_size_pcts = [0.1,0.15,0.2,0.25,0.3]\n",
    "\n",
    "for i in test_size_pcts:\n",
    "    print(f'{int(i*100)}%: {i * len(X)}')"
   ]
  },
  {
   "cell_type": "code",
   "execution_count": 25,
   "id": "d2fced5e-3208-4de9-8718-559b0154521f",
   "metadata": {},
   "outputs": [],
   "source": [
    "# Let's split the data into 80-10-10 (training-testing-validation)\n",
    "# X_temp, y_temp being placeholders\n",
    "X_train, X_temp, y_train, y_temp = train_test_split(X, y, test_size=0.20, random_state=42)"
   ]
  },
  {
   "cell_type": "code",
   "execution_count": 26,
   "id": "d896c9c8-fd5f-4bd0-8d31-26a0a17622ed",
   "metadata": {},
   "outputs": [],
   "source": [
    "# Splitting the data into validation and testing\n",
    "X_val, X_test, y_val, y_test = train_test_split(X_temp, y_temp, test_size=0.5, random_state=42)"
   ]
  },
  {
   "cell_type": "code",
   "execution_count": 28,
   "id": "c25c50bc-453c-43e5-9b02-b16781fd8dc2",
   "metadata": {},
   "outputs": [
    {
     "name": "stdout",
     "output_type": "stream",
     "text": [
      "X_train: 80.0%\n",
      "X_test: 10.0%\n",
      "X_val: 10.0%\n"
     ]
    }
   ],
   "source": [
    "print(f'X_train: {(len(X_train)/len(df))*100}%')\n",
    "print(f'X_test: {(len(X_test)/len(df))*100}%')\n",
    "print(f'X_val: {(len(X_val)/len(df))*100}%')"
   ]
  },
  {
   "cell_type": "code",
   "execution_count": 29,
   "id": "5b2354d1-7ed0-4ec9-9f70-ce628f57a277",
   "metadata": {},
   "outputs": [
    {
     "name": "stdout",
     "output_type": "stream",
     "text": [
      "Stored 'X_train' (DataFrame)\n",
      "Stored 'X_test' (DataFrame)\n",
      "Stored 'X_val' (DataFrame)\n",
      "Stored 'y_train' (Series)\n",
      "Stored 'y_test' (Series)\n",
      "Stored 'y_val' (Series)\n"
     ]
    }
   ],
   "source": [
    "# Saving the split data variables for the next step\n",
    "%store X_train X_test X_val y_train y_test y_val"
   ]
  }
 ],
 "metadata": {
  "kernelspec": {
   "display_name": "Python 3 (ipykernel)",
   "language": "python",
   "name": "python3"
  },
  "language_info": {
   "codemirror_mode": {
    "name": "ipython",
    "version": 3
   },
   "file_extension": ".py",
   "mimetype": "text/x-python",
   "name": "python",
   "nbconvert_exporter": "python",
   "pygments_lexer": "ipython3",
   "version": "3.12.3"
  }
 },
 "nbformat": 4,
 "nbformat_minor": 5
}
