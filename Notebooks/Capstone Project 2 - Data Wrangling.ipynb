{
 "cells": [
  {
   "cell_type": "markdown",
   "id": "76c00b8e-65d3-447a-8bef-08fe0ca91c21",
   "metadata": {},
   "source": [
    "# Flight Price Predictions for _EaseMyTrip.com_ Springboard Data Science Career Track Capstone Project 2"
   ]
  },
  {
   "cell_type": "markdown",
   "id": "698e1181-8f35-4b8e-9e39-1af24189b28d",
   "metadata": {},
   "source": [
    "The data here that was [imported from _Kaggle_](https://www.kaggle.com/datasets/shubhambathwal/flight-price-prediction) has already been cleaned and made available by the publisher."
   ]
  },
  {
   "cell_type": "markdown",
   "id": "53b04c3b-c0a3-4fb0-8cb1-8ee1eafad9fd",
   "metadata": {},
   "source": [
    "**Importing the relevant libraries/modules for the data collection.**"
   ]
  },
  {
   "cell_type": "code",
   "execution_count": 1,
   "id": "14806e25-0327-44d6-9023-ebcd3ac25875",
   "metadata": {},
   "outputs": [],
   "source": [
    "import pandas as pd\n",
    "import matplotlib.pyplot as plt\n",
    "import seaborn as sns\n",
    "import os"
   ]
  },
  {
   "cell_type": "markdown",
   "id": "dd8fc932-3c0f-4828-a7ff-1885ef65bd0c",
   "metadata": {},
   "source": [
    "However, we should still look at what we got and double-check that nothing is out of the ordinary."
   ]
  },
  {
   "cell_type": "code",
   "execution_count": 2,
   "id": "3af77d03-e63f-4af5-ace9-f2b5b34f5425",
   "metadata": {},
   "outputs": [
    {
     "name": "stdout",
     "output_type": "stream",
     "text": [
      "<class 'pandas.core.frame.DataFrame'>\n",
      "RangeIndex: 300153 entries, 0 to 300152\n",
      "Data columns (total 12 columns):\n",
      " #   Column            Non-Null Count   Dtype  \n",
      "---  ------            --------------   -----  \n",
      " 0   Unnamed: 0        300153 non-null  int64  \n",
      " 1   airline           300153 non-null  object \n",
      " 2   flight            300153 non-null  object \n",
      " 3   source_city       300153 non-null  object \n",
      " 4   departure_time    300153 non-null  object \n",
      " 5   stops             300153 non-null  object \n",
      " 6   arrival_time      300153 non-null  object \n",
      " 7   destination_city  300153 non-null  object \n",
      " 8   class             300153 non-null  object \n",
      " 9   duration          300153 non-null  float64\n",
      " 10  days_left         300153 non-null  int64  \n",
      " 11  price             300153 non-null  int64  \n",
      "dtypes: float64(1), int64(3), object(8)\n",
      "memory usage: 27.5+ MB\n"
     ]
    }
   ],
   "source": [
    "# Converting the flight data into a Pandas dataframe\n",
    "# Then checking the info\n",
    "flight_df = pd.read_csv('../Capstone Project 2/Capstone 2 Data/Clean_Dataset.csv')\n",
    "flight_df.info()"
   ]
  },
  {
   "cell_type": "markdown",
   "id": "d4ceed6c-9ed5-4bdf-9d68-12a47cd63f84",
   "metadata": {},
   "source": [
    "Since this data was already mostly cleaned by the publisher, it makes sense that there seems to already be consistency with the data. We can see that there aren't any missing values.\n",
    "\n",
    "Still, let's take a closer look at the table itself."
   ]
  },
  {
   "cell_type": "code",
   "execution_count": 3,
   "id": "f846c2b9-9651-45c5-868d-4acd0b4ba07a",
   "metadata": {},
   "outputs": [
    {
     "data": {
      "text/html": [
       "<div>\n",
       "<style scoped>\n",
       "    .dataframe tbody tr th:only-of-type {\n",
       "        vertical-align: middle;\n",
       "    }\n",
       "\n",
       "    .dataframe tbody tr th {\n",
       "        vertical-align: top;\n",
       "    }\n",
       "\n",
       "    .dataframe thead th {\n",
       "        text-align: right;\n",
       "    }\n",
       "</style>\n",
       "<table border=\"1\" class=\"dataframe\">\n",
       "  <thead>\n",
       "    <tr style=\"text-align: right;\">\n",
       "      <th></th>\n",
       "      <th>Unnamed: 0</th>\n",
       "      <th>airline</th>\n",
       "      <th>flight</th>\n",
       "      <th>source_city</th>\n",
       "      <th>departure_time</th>\n",
       "      <th>stops</th>\n",
       "      <th>arrival_time</th>\n",
       "      <th>destination_city</th>\n",
       "      <th>class</th>\n",
       "      <th>duration</th>\n",
       "      <th>days_left</th>\n",
       "      <th>price</th>\n",
       "    </tr>\n",
       "  </thead>\n",
       "  <tbody>\n",
       "    <tr>\n",
       "      <th>0</th>\n",
       "      <td>0</td>\n",
       "      <td>SpiceJet</td>\n",
       "      <td>SG-8709</td>\n",
       "      <td>Delhi</td>\n",
       "      <td>Evening</td>\n",
       "      <td>zero</td>\n",
       "      <td>Night</td>\n",
       "      <td>Mumbai</td>\n",
       "      <td>Economy</td>\n",
       "      <td>2.17</td>\n",
       "      <td>1</td>\n",
       "      <td>5953</td>\n",
       "    </tr>\n",
       "    <tr>\n",
       "      <th>1</th>\n",
       "      <td>1</td>\n",
       "      <td>SpiceJet</td>\n",
       "      <td>SG-8157</td>\n",
       "      <td>Delhi</td>\n",
       "      <td>Early_Morning</td>\n",
       "      <td>zero</td>\n",
       "      <td>Morning</td>\n",
       "      <td>Mumbai</td>\n",
       "      <td>Economy</td>\n",
       "      <td>2.33</td>\n",
       "      <td>1</td>\n",
       "      <td>5953</td>\n",
       "    </tr>\n",
       "  </tbody>\n",
       "</table>\n",
       "</div>"
      ],
      "text/plain": [
       "   Unnamed: 0   airline   flight source_city departure_time stops  \\\n",
       "0           0  SpiceJet  SG-8709       Delhi        Evening  zero   \n",
       "1           1  SpiceJet  SG-8157       Delhi  Early_Morning  zero   \n",
       "\n",
       "  arrival_time destination_city    class  duration  days_left  price  \n",
       "0        Night           Mumbai  Economy      2.17          1   5953  \n",
       "1      Morning           Mumbai  Economy      2.33          1   5953  "
      ]
     },
     "execution_count": 3,
     "metadata": {},
     "output_type": "execute_result"
    }
   ],
   "source": [
    "flight_df.head(2)"
   ]
  },
  {
   "cell_type": "markdown",
   "id": "fcee5d2b-0b51-4787-b6f9-8092a4606c27",
   "metadata": {},
   "source": [
    "**Let's get rid of the \"Unnamed\" index column**"
   ]
  },
  {
   "cell_type": "code",
   "execution_count": 4,
   "id": "d6cca348-38d7-4f8b-9458-853bff7e2099",
   "metadata": {},
   "outputs": [
    {
     "data": {
      "text/html": [
       "<div>\n",
       "<style scoped>\n",
       "    .dataframe tbody tr th:only-of-type {\n",
       "        vertical-align: middle;\n",
       "    }\n",
       "\n",
       "    .dataframe tbody tr th {\n",
       "        vertical-align: top;\n",
       "    }\n",
       "\n",
       "    .dataframe thead th {\n",
       "        text-align: right;\n",
       "    }\n",
       "</style>\n",
       "<table border=\"1\" class=\"dataframe\">\n",
       "  <thead>\n",
       "    <tr style=\"text-align: right;\">\n",
       "      <th></th>\n",
       "      <th>airline</th>\n",
       "      <th>flight</th>\n",
       "      <th>source_city</th>\n",
       "      <th>departure_time</th>\n",
       "      <th>stops</th>\n",
       "      <th>arrival_time</th>\n",
       "      <th>destination_city</th>\n",
       "      <th>class</th>\n",
       "      <th>duration</th>\n",
       "      <th>days_left</th>\n",
       "      <th>price</th>\n",
       "    </tr>\n",
       "  </thead>\n",
       "  <tbody>\n",
       "    <tr>\n",
       "      <th>0</th>\n",
       "      <td>SpiceJet</td>\n",
       "      <td>SG-8709</td>\n",
       "      <td>Delhi</td>\n",
       "      <td>Evening</td>\n",
       "      <td>zero</td>\n",
       "      <td>Night</td>\n",
       "      <td>Mumbai</td>\n",
       "      <td>Economy</td>\n",
       "      <td>2.17</td>\n",
       "      <td>1</td>\n",
       "      <td>5953</td>\n",
       "    </tr>\n",
       "    <tr>\n",
       "      <th>1</th>\n",
       "      <td>SpiceJet</td>\n",
       "      <td>SG-8157</td>\n",
       "      <td>Delhi</td>\n",
       "      <td>Early_Morning</td>\n",
       "      <td>zero</td>\n",
       "      <td>Morning</td>\n",
       "      <td>Mumbai</td>\n",
       "      <td>Economy</td>\n",
       "      <td>2.33</td>\n",
       "      <td>1</td>\n",
       "      <td>5953</td>\n",
       "    </tr>\n",
       "  </tbody>\n",
       "</table>\n",
       "</div>"
      ],
      "text/plain": [
       "    airline   flight source_city departure_time stops arrival_time  \\\n",
       "0  SpiceJet  SG-8709       Delhi        Evening  zero        Night   \n",
       "1  SpiceJet  SG-8157       Delhi  Early_Morning  zero      Morning   \n",
       "\n",
       "  destination_city    class  duration  days_left  price  \n",
       "0           Mumbai  Economy      2.17          1   5953  \n",
       "1           Mumbai  Economy      2.33          1   5953  "
      ]
     },
     "execution_count": 4,
     "metadata": {},
     "output_type": "execute_result"
    }
   ],
   "source": [
    "flight_df = flight_df.drop(labels='Unnamed: 0', axis=1)\n",
    "flight_df.head(2)"
   ]
  },
  {
   "cell_type": "code",
   "execution_count": 5,
   "id": "256e0d70-5a69-4ffd-936f-52f3bd5c7e22",
   "metadata": {},
   "outputs": [
    {
     "name": "stdout",
     "output_type": "stream",
     "text": [
      "The data has 300153 observations and 11 features to work with.\n"
     ]
    }
   ],
   "source": [
    "num_rows = flight_df.shape[0]\n",
    "num_feats = flight_df.shape[1]\n",
    "print(f'The data has {num_rows} observations and {num_feats} features to work with.')"
   ]
  },
  {
   "cell_type": "markdown",
   "id": "a6f965b4-f030-4e86-99ea-c57178fc6906",
   "metadata": {},
   "source": [
    "**Let's double check to make sure that there aren't any missing values.**"
   ]
  },
  {
   "cell_type": "code",
   "execution_count": 6,
   "id": "f528ea2f-acf6-45d1-9312-3d440f4fc0a7",
   "metadata": {},
   "outputs": [
    {
     "name": "stdout",
     "output_type": "stream",
     "text": [
      "airline             0\n",
      "flight              0\n",
      "source_city         0\n",
      "departure_time      0\n",
      "stops               0\n",
      "arrival_time        0\n",
      "destination_city    0\n",
      "class               0\n",
      "duration            0\n",
      "days_left           0\n",
      "price               0\n",
      "dtype: int64\n"
     ]
    }
   ],
   "source": [
    "print(flight_df.isnull().sum())"
   ]
  },
  {
   "cell_type": "markdown",
   "id": "331fb0dd-f050-45d8-9211-2a3d45165d6f",
   "metadata": {},
   "source": [
    "Great! Still no missing values to be concerned about.\n",
    "\n",
    "**Let's look at which features have numeric values and categorical values.**"
   ]
  },
  {
   "cell_type": "code",
   "execution_count": 7,
   "id": "ae56a923-978d-4468-882c-6092989c60c5",
   "metadata": {},
   "outputs": [
    {
     "data": {
      "text/plain": [
       "airline              object\n",
       "flight               object\n",
       "source_city          object\n",
       "departure_time       object\n",
       "stops                object\n",
       "arrival_time         object\n",
       "destination_city     object\n",
       "class                object\n",
       "duration            float64\n",
       "days_left             int64\n",
       "price                 int64\n",
       "dtype: object"
      ]
     },
     "execution_count": 7,
     "metadata": {},
     "output_type": "execute_result"
    }
   ],
   "source": [
    "flight_df.dtypes"
   ]
  },
  {
   "cell_type": "markdown",
   "id": "06354d9a-926b-4605-8b7c-b924c1f2d974",
   "metadata": {},
   "source": [
    "**Checking how many unique values are in each feature**"
   ]
  },
  {
   "cell_type": "code",
   "execution_count": 8,
   "id": "25a7e0ed-5850-4815-84ad-253af8844046",
   "metadata": {},
   "outputs": [
    {
     "data": {
      "text/plain": [
       "price               12157\n",
       "flight               1561\n",
       "duration              476\n",
       "days_left              49\n",
       "airline                 6\n",
       "source_city             6\n",
       "departure_time          6\n",
       "arrival_time            6\n",
       "destination_city        6\n",
       "stops                   3\n",
       "class                   2\n",
       "dtype: int64"
      ]
     },
     "execution_count": 8,
     "metadata": {},
     "output_type": "execute_result"
    }
   ],
   "source": [
    "flight_df.nunique().sort_values(ascending=False)"
   ]
  },
  {
   "cell_type": "markdown",
   "id": "24d3492b-2a7a-4a3a-819f-ef7bffd6687a",
   "metadata": {},
   "source": [
    "Looking at the first 5 rows of the dataframe as well as the unique values from each column, it would be safe to determine that the _price_, _duration_, and _days_left_ features will be our continuous-valued features. The rest (except _flight_) will be our categorical features."
   ]
  },
  {
   "cell_type": "code",
   "execution_count": 9,
   "id": "6fa526b3-2a03-4c91-88a7-d7c439fee715",
   "metadata": {},
   "outputs": [
    {
     "name": "stdout",
     "output_type": "stream",
     "text": [
      "Unique values in 'airline': ['SpiceJet' 'AirAsia' 'Vistara' 'GO_FIRST' 'Indigo' 'Air_India']\n",
      "Unique values in 'source_city': ['Delhi' 'Mumbai' 'Bangalore' 'Kolkata' 'Hyderabad' 'Chennai']\n",
      "Unique values in 'destination_city': ['Mumbai' 'Bangalore' 'Kolkata' 'Hyderabad' 'Chennai' 'Delhi']\n",
      "Unique values in 'departure_time': ['Evening' 'Early_Morning' 'Morning' 'Afternoon' 'Night' 'Late_Night']\n",
      "Unique values in 'arrival_time': ['Night' 'Morning' 'Early_Morning' 'Afternoon' 'Evening' 'Late_Night']\n",
      "Unique values in 'stops': ['zero' 'one' 'two_or_more']\n",
      "Unique values in 'class': ['Economy' 'Business']\n"
     ]
    }
   ],
   "source": [
    "# cat_cols will be our list of categorical features\n",
    "cat_cols = ['airline','source_city', 'destination_city', \n",
    "            'departure_time', 'arrival_time', 'stops', 'class']\n",
    "\n",
    "for col in cat_cols:\n",
    "    unique_values = flight_df[col].unique()\n",
    "    print(f\"Unique values in '{col}': {unique_values}\")"
   ]
  },
  {
   "cell_type": "markdown",
   "id": "a986bd4c-28dc-4aa4-9024-afa6dce4af08",
   "metadata": {},
   "source": [
    "Although intuitively something like _stops_ would be a continuous variable.\n",
    "\n",
    "However, with \"two_or_more\" meaning that a flight may have at least 2 stops, this would make the feature categorical.\n",
    "\n",
    "**Still, let's change the values of _stops_ to be represented by their respective numeric symbols, but as strings with \"two_or_more\" being represented as \"2+\"**"
   ]
  },
  {
   "cell_type": "code",
   "execution_count": 10,
   "id": "d5571c10-4044-40e9-9326-511f43fe2893",
   "metadata": {},
   "outputs": [
    {
     "data": {
      "text/plain": [
       "array(['0', '1', '2+'], dtype=object)"
      ]
     },
     "execution_count": 10,
     "metadata": {},
     "output_type": "execute_result"
    }
   ],
   "source": [
    "# Let's change the values in 'stops' to 0, 1, 2+ all as strings\n",
    "flight_df['stops'] = flight_df['stops'].apply(lambda x: '0' if x == 'zero' \n",
    "                                              else ('1' if x == 'one' else '2+'))\n",
    "flight_df['stops'].unique()"
   ]
  },
  {
   "cell_type": "markdown",
   "id": "062f5743-36eb-4eff-a610-18568d25d1ff",
   "metadata": {},
   "source": [
    "Let's see if this applied to the actual dataframe"
   ]
  },
  {
   "cell_type": "code",
   "execution_count": 11,
   "id": "51f92344-dcec-454a-b6b4-c7250f24d913",
   "metadata": {
    "scrolled": true
   },
   "outputs": [
    {
     "data": {
      "text/html": [
       "<div>\n",
       "<style scoped>\n",
       "    .dataframe tbody tr th:only-of-type {\n",
       "        vertical-align: middle;\n",
       "    }\n",
       "\n",
       "    .dataframe tbody tr th {\n",
       "        vertical-align: top;\n",
       "    }\n",
       "\n",
       "    .dataframe thead th {\n",
       "        text-align: right;\n",
       "    }\n",
       "</style>\n",
       "<table border=\"1\" class=\"dataframe\">\n",
       "  <thead>\n",
       "    <tr style=\"text-align: right;\">\n",
       "      <th></th>\n",
       "      <th>airline</th>\n",
       "      <th>flight</th>\n",
       "      <th>source_city</th>\n",
       "      <th>departure_time</th>\n",
       "      <th>stops</th>\n",
       "      <th>arrival_time</th>\n",
       "      <th>destination_city</th>\n",
       "      <th>class</th>\n",
       "      <th>duration</th>\n",
       "      <th>days_left</th>\n",
       "      <th>price</th>\n",
       "    </tr>\n",
       "  </thead>\n",
       "  <tbody>\n",
       "    <tr>\n",
       "      <th>175</th>\n",
       "      <td>Indigo</td>\n",
       "      <td>6E-282</td>\n",
       "      <td>Delhi</td>\n",
       "      <td>Morning</td>\n",
       "      <td>2+</td>\n",
       "      <td>Evening</td>\n",
       "      <td>Mumbai</td>\n",
       "      <td>Economy</td>\n",
       "      <td>9.67</td>\n",
       "      <td>2</td>\n",
       "      <td>11678</td>\n",
       "    </tr>\n",
       "    <tr>\n",
       "      <th>312</th>\n",
       "      <td>GO_FIRST</td>\n",
       "      <td>G8-286</td>\n",
       "      <td>Delhi</td>\n",
       "      <td>Morning</td>\n",
       "      <td>2+</td>\n",
       "      <td>Night</td>\n",
       "      <td>Mumbai</td>\n",
       "      <td>Economy</td>\n",
       "      <td>11.00</td>\n",
       "      <td>3</td>\n",
       "      <td>12045</td>\n",
       "    </tr>\n",
       "    <tr>\n",
       "      <th>496</th>\n",
       "      <td>GO_FIRST</td>\n",
       "      <td>G8-357</td>\n",
       "      <td>Delhi</td>\n",
       "      <td>Early_Morning</td>\n",
       "      <td>2+</td>\n",
       "      <td>Evening</td>\n",
       "      <td>Mumbai</td>\n",
       "      <td>Economy</td>\n",
       "      <td>12.08</td>\n",
       "      <td>4</td>\n",
       "      <td>11295</td>\n",
       "    </tr>\n",
       "    <tr>\n",
       "      <th>611</th>\n",
       "      <td>GO_FIRST</td>\n",
       "      <td>G8-199</td>\n",
       "      <td>Delhi</td>\n",
       "      <td>Afternoon</td>\n",
       "      <td>2+</td>\n",
       "      <td>Night</td>\n",
       "      <td>Mumbai</td>\n",
       "      <td>Economy</td>\n",
       "      <td>8.58</td>\n",
       "      <td>5</td>\n",
       "      <td>5954</td>\n",
       "    </tr>\n",
       "    <tr>\n",
       "      <th>628</th>\n",
       "      <td>Indigo</td>\n",
       "      <td>6E-282</td>\n",
       "      <td>Delhi</td>\n",
       "      <td>Morning</td>\n",
       "      <td>2+</td>\n",
       "      <td>Evening</td>\n",
       "      <td>Mumbai</td>\n",
       "      <td>Economy</td>\n",
       "      <td>9.67</td>\n",
       "      <td>5</td>\n",
       "      <td>6953</td>\n",
       "    </tr>\n",
       "  </tbody>\n",
       "</table>\n",
       "</div>"
      ],
      "text/plain": [
       "      airline  flight source_city departure_time stops arrival_time  \\\n",
       "175    Indigo  6E-282       Delhi        Morning    2+      Evening   \n",
       "312  GO_FIRST  G8-286       Delhi        Morning    2+        Night   \n",
       "496  GO_FIRST  G8-357       Delhi  Early_Morning    2+      Evening   \n",
       "611  GO_FIRST  G8-199       Delhi      Afternoon    2+        Night   \n",
       "628    Indigo  6E-282       Delhi        Morning    2+      Evening   \n",
       "\n",
       "    destination_city    class  duration  days_left  price  \n",
       "175           Mumbai  Economy      9.67          2  11678  \n",
       "312           Mumbai  Economy     11.00          3  12045  \n",
       "496           Mumbai  Economy     12.08          4  11295  \n",
       "611           Mumbai  Economy      8.58          5   5954  \n",
       "628           Mumbai  Economy      9.67          5   6953  "
      ]
     },
     "execution_count": 11,
     "metadata": {},
     "output_type": "execute_result"
    }
   ],
   "source": [
    "flight_df[flight_df['stops'] == '2+'].head()"
   ]
  },
  {
   "cell_type": "markdown",
   "id": "c28c5f29-5621-4bd1-9cd8-06825a18b0ba",
   "metadata": {},
   "source": [
    "Looks like that worked!"
   ]
  },
  {
   "cell_type": "markdown",
   "id": "ce02a8e1-560c-4d2c-a0af-e2834c173c02",
   "metadata": {},
   "source": [
    "**One more little thing to change for sake of consistency is tweaking the _airline_ value \"GO_FIRST\" into \"Go_First\".**"
   ]
  },
  {
   "cell_type": "code",
   "execution_count": 12,
   "id": "36bfbf85-c3b7-4270-a205-403575e18ed2",
   "metadata": {},
   "outputs": [
    {
     "data": {
      "text/plain": [
       "array(['SpiceJet', 'AirAsia', 'Vistara', 'Go_First', 'Indigo',\n",
       "       'Air_India'], dtype=object)"
      ]
     },
     "execution_count": 12,
     "metadata": {},
     "output_type": "execute_result"
    }
   ],
   "source": [
    "flight_df['airline'] = flight_df['airline'].replace('GO_FIRST', 'Go_First')\n",
    "flight_df['airline'].unique()"
   ]
  },
  {
   "cell_type": "code",
   "execution_count": 13,
   "id": "852efc8e-2cda-4d35-8497-b7f83d2bf7ba",
   "metadata": {},
   "outputs": [
    {
     "data": {
      "text/plain": [
       "airline              Go_First\n",
       "flight                 G8-199\n",
       "source_city             Delhi\n",
       "departure_time      Afternoon\n",
       "stops                      2+\n",
       "arrival_time            Night\n",
       "destination_city       Mumbai\n",
       "class                 Economy\n",
       "duration                 8.58\n",
       "days_left                   5\n",
       "price                    5954\n",
       "Name: 611, dtype: object"
      ]
     },
     "execution_count": 13,
     "metadata": {},
     "output_type": "execute_result"
    }
   ],
   "source": [
    "# Let's look at index 611 since we know that it is a Go First flight\n",
    "# To also verify the change\n",
    "flight_df.iloc[611]"
   ]
  },
  {
   "cell_type": "markdown",
   "id": "daa8fffd-57da-4e4d-aa58-97640e495e77",
   "metadata": {},
   "source": [
    "# Feature Descriptions\n",
    "\n",
    "## Categorical Features\n",
    "- **Airline**: The name of the airline company of the flight. **6** unique airline names\n",
    "- **Flight**: The flight's assigned flight code. **1,561** unique flight numbers\n",
    "- **Source City**: The name of the city the flight is departing from. **6** categories/cities.\n",
    "- **Departure Time**: Categorical feature that describes when during the day the flight is departing. **6** unique departure times of the day.\n",
    "    \n",
    "- **Stops**: The amount of layover stops between the departing city and the _Destination City_. **3** unique layover stop values.\n",
    "- **Arrival Time**: Feature that describes when during the day the flight arrives at the _Destination City_. Same number (**6**) as _Departure Time_.\n",
    "- **Destination City**: The name of the city the flight will land at. Same number (**6**) as _Departure City_.\n",
    "\n",
    "## Continuous Features\n",
    "- **Duration**: The net flight time between the _Source City_ and the _Destination City_. Measured in **hours** as floats.\n",
    "- **Days Left**: The amount of days the flight was booked in advanced before the departure date. Measured in **days** as integers.\n",
    "- **Price**: Continuous **target variable** for the ticket price of each booking. Measured in **Indian Rupees (&#8377;)** as integers."
   ]
  },
  {
   "cell_type": "markdown",
   "id": "28d90aec-3b2c-4b9e-b1c0-374fe6b79b25",
   "metadata": {},
   "source": [
    "As mentioned earlier, the _flight_ feature will not be included in the final dataset for our study. It is a categorical feature that has too many unique values. Each airline has it's own system to how it assigns flight numbers. This will be irrelevant to our data.\n",
    "\n",
    "**Let's remove the _flight_ column in that case**"
   ]
  },
  {
   "cell_type": "code",
   "execution_count": 14,
   "id": "5e96dc4c-0d77-4e23-94f4-3afbb966406e",
   "metadata": {},
   "outputs": [
    {
     "data": {
      "text/html": [
       "<div>\n",
       "<style scoped>\n",
       "    .dataframe tbody tr th:only-of-type {\n",
       "        vertical-align: middle;\n",
       "    }\n",
       "\n",
       "    .dataframe tbody tr th {\n",
       "        vertical-align: top;\n",
       "    }\n",
       "\n",
       "    .dataframe thead th {\n",
       "        text-align: right;\n",
       "    }\n",
       "</style>\n",
       "<table border=\"1\" class=\"dataframe\">\n",
       "  <thead>\n",
       "    <tr style=\"text-align: right;\">\n",
       "      <th></th>\n",
       "      <th>airline</th>\n",
       "      <th>source_city</th>\n",
       "      <th>departure_time</th>\n",
       "      <th>stops</th>\n",
       "      <th>arrival_time</th>\n",
       "      <th>destination_city</th>\n",
       "      <th>class</th>\n",
       "      <th>duration</th>\n",
       "      <th>days_left</th>\n",
       "      <th>price</th>\n",
       "    </tr>\n",
       "  </thead>\n",
       "  <tbody>\n",
       "    <tr>\n",
       "      <th>0</th>\n",
       "      <td>SpiceJet</td>\n",
       "      <td>Delhi</td>\n",
       "      <td>Evening</td>\n",
       "      <td>0</td>\n",
       "      <td>Night</td>\n",
       "      <td>Mumbai</td>\n",
       "      <td>Economy</td>\n",
       "      <td>2.17</td>\n",
       "      <td>1</td>\n",
       "      <td>5953</td>\n",
       "    </tr>\n",
       "    <tr>\n",
       "      <th>1</th>\n",
       "      <td>SpiceJet</td>\n",
       "      <td>Delhi</td>\n",
       "      <td>Early_Morning</td>\n",
       "      <td>0</td>\n",
       "      <td>Morning</td>\n",
       "      <td>Mumbai</td>\n",
       "      <td>Economy</td>\n",
       "      <td>2.33</td>\n",
       "      <td>1</td>\n",
       "      <td>5953</td>\n",
       "    </tr>\n",
       "  </tbody>\n",
       "</table>\n",
       "</div>"
      ],
      "text/plain": [
       "    airline source_city departure_time stops arrival_time destination_city  \\\n",
       "0  SpiceJet       Delhi        Evening     0        Night           Mumbai   \n",
       "1  SpiceJet       Delhi  Early_Morning     0      Morning           Mumbai   \n",
       "\n",
       "     class  duration  days_left  price  \n",
       "0  Economy      2.17          1   5953  \n",
       "1  Economy      2.33          1   5953  "
      ]
     },
     "execution_count": 14,
     "metadata": {},
     "output_type": "execute_result"
    }
   ],
   "source": [
    "# Removing flight column\n",
    "flight_df = flight_df.drop('flight', axis=1)\n",
    "flight_df.head(2)"
   ]
  },
  {
   "cell_type": "code",
   "execution_count": 15,
   "id": "42b51069-9a6c-4a94-bbe7-f092629694eb",
   "metadata": {},
   "outputs": [
    {
     "name": "stdout",
     "output_type": "stream",
     "text": [
      "The dataset still has 300153 rows, but now with 10 features.\n"
     ]
    }
   ],
   "source": [
    "num_obs = flight_df.shape[0]\n",
    "num_feats = flight_df.shape[1]\n",
    "print(f'The dataset still has {num_obs} rows, but now with {num_feats} features.')"
   ]
  },
  {
   "cell_type": "code",
   "execution_count": 16,
   "id": "798310a2-c33a-426d-a764-49b2b36bb195",
   "metadata": {},
   "outputs": [],
   "source": [
    "# Let's save the newly edited dataframe\n",
    "folder_name = 'Capstone 2 Data'\n",
    "file_name = 'flight_data.csv'\n",
    "\n",
    "file_path = os.path.join(folder_name, file_name)\n",
    "\n",
    "flight_df.to_csv(file_path, index=False)"
   ]
  }
 ],
 "metadata": {
  "kernelspec": {
   "display_name": "Python 3 (ipykernel)",
   "language": "python",
   "name": "python3"
  },
  "language_info": {
   "codemirror_mode": {
    "name": "ipython",
    "version": 3
   },
   "file_extension": ".py",
   "mimetype": "text/x-python",
   "name": "python",
   "nbconvert_exporter": "python",
   "pygments_lexer": "ipython3",
   "version": "3.12.3"
  }
 },
 "nbformat": 4,
 "nbformat_minor": 5
}
